{
 "cells": [
  {
   "cell_type": "markdown",
   "id": "9dce4a60",
   "metadata": {},
   "source": [
    "## Tuples\n",
    "Tuple is immuable. Can't changed after assign"
   ]
  },
  {
   "cell_type": "code",
   "execution_count": 8,
   "id": "0f4239c6",
   "metadata": {},
   "outputs": [
    {
     "name": "stdout",
     "output_type": "stream",
     "text": [
      "(20, 'Tanveer', 3.14, True)\n",
      "(10, 'Afrin', 2.71, False)\n",
      "()\n"
     ]
    }
   ],
   "source": [
    "my_tuple= (20,\"Tanveer\", 3.14, True)\n",
    "print(my_tuple)  \n",
    "\n",
    "your_tuple = 10, \"Afrin\", 2.71, False\n",
    "print(your_tuple)\n",
    "\n",
    "his_tuple = ()\n",
    "print(his_tuple)  # Output: ()"
   ]
  },
  {
   "cell_type": "code",
   "execution_count": 79,
   "id": "8d01b73b",
   "metadata": {},
   "outputs": [
    {
     "name": "stdout",
     "output_type": "stream",
     "text": [
      "(20, 'Tanveer', 3.14, True)\n",
      "(True, 3.14, 'Tanveer', 20)\n",
      "20\n",
      "20\n",
      "('Tanveer', 3.14)\n"
     ]
    }
   ],
   "source": [
    "#            -4    -3         -2    -1\n",
    "my_tuple= (20,\"Tanveer\", 3.14, True)\n",
    "print(my_tuple)  \n",
    "print(my_tuple[::-1])  \n",
    "\n",
    "print(my_tuple[0])  \n",
    "print(my_tuple[-4])  \n",
    "\n",
    "print(my_tuple[-3:-1])"
   ]
  },
  {
   "cell_type": "code",
   "execution_count": 80,
   "id": "046cc41c",
   "metadata": {},
   "outputs": [
    {
     "name": "stdout",
     "output_type": "stream",
     "text": [
      "Tanveer is in the tuple\n"
     ]
    }
   ],
   "source": [
    "my_tuple= (20,\"Tanveer\", 3.14, True)\n",
    "\n",
    "if \"Tanveer\" in my_tuple:\n",
    "    print(\"Tanveer is in the tuple\")\n"
   ]
  },
  {
   "cell_type": "code",
   "execution_count": 81,
   "id": "d60f9b3a",
   "metadata": {},
   "outputs": [
    {
     "name": "stdout",
     "output_type": "stream",
     "text": [
      "(20, 'Tanveer', 3.14, True)\n"
     ]
    }
   ],
   "source": [
    "my_tuple= (20,\"Tanveer\", 3.14, True)\n",
    "print(my_tuple)  \n"
   ]
  },
  {
   "cell_type": "markdown",
   "id": "64452475",
   "metadata": {},
   "source": [
    "#### Tuple to list --- list to tuple"
   ]
  },
  {
   "cell_type": "code",
   "execution_count": null,
   "id": "c62bd53c",
   "metadata": {},
   "outputs": [
    {
     "name": "stdout",
     "output_type": "stream",
     "text": [
      "(20, 'Tanveer', 3.14, True)\n",
      "[25, 'Tanveer', True, 'New Item']\n",
      "(25, 'Tanveer', True, 'New Item')\n"
     ]
    }
   ],
   "source": [
    "my_tuple= (20,\"Tanveer\", 3.14, True)\n",
    "print(my_tuple)  \n",
    "\n",
    "my_list = list(my_tuple)  # Convert tuple to list\n",
    "my_list.append(\"New Item\")  # Add an item to the list\n",
    "my_list.remove(3.14)  # Remove an item from the list\n",
    "my_list[0] = 25  # Change the first item in the list\n",
    "print(my_list)\n",
    "\n",
    "my_tuple = tuple(my_list)  # Convert list back to tuple\n",
    "print(my_tuple)\n"
   ]
  },
  {
   "cell_type": "markdown",
   "id": "c2d21e40",
   "metadata": {},
   "source": [
    "#### Concatenate Two Tuples"
   ]
  },
  {
   "cell_type": "code",
   "execution_count": 86,
   "id": "cdd0784d",
   "metadata": {},
   "outputs": [
    {
     "name": "stdout",
     "output_type": "stream",
     "text": [
      "(20, 'Tanveer', 3.14, True)\n",
      "(10, 'Afrin', 2.71, False)\n",
      "(20, 'Tanveer', 3.14, True, 10, 'Afrin', 2.71, False)\n",
      "(20, 'Tanveer', 3.14, True, 20, 'Tanveer', 3.14, True)\n"
     ]
    }
   ],
   "source": [
    "my_tuple= (20,\"Tanveer\", 3.14, True)\n",
    "print(my_tuple)  \n",
    "\n",
    "your_tuple = 10, \"Afrin\", 2.71, False\n",
    "print(your_tuple)\n",
    "\n",
    "print(my_tuple + your_tuple)  # Concatenate two tuples\n",
    "print(my_tuple * 2)  # Repeat the tuple twice"
   ]
  },
  {
   "cell_type": "code",
   "execution_count": 88,
   "id": "9705101e",
   "metadata": {},
   "outputs": [
    {
     "name": "stdout",
     "output_type": "stream",
     "text": [
      "(20, 30.5, 0.088, 4)\n",
      "(20, 30.5, 0.088, 4, 20, 30.5, 0.088, 4)\n"
     ]
    }
   ],
   "source": [
    "my_tuple= (20,30.5,.088,4)\n",
    "print(my_tuple)  \n",
    "print(my_tuple * 2) "
   ]
  }
 ],
 "metadata": {
  "kernelspec": {
   "display_name": ".venv",
   "language": "python",
   "name": "python3"
  },
  "language_info": {
   "codemirror_mode": {
    "name": "ipython",
    "version": 3
   },
   "file_extension": ".py",
   "mimetype": "text/x-python",
   "name": "python",
   "nbconvert_exporter": "python",
   "pygments_lexer": "ipython3",
   "version": "3.13.7"
  }
 },
 "nbformat": 4,
 "nbformat_minor": 5
}
