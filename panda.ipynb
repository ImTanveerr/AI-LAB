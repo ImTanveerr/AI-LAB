{
 "cells": [
  {
   "cell_type": "markdown",
   "id": "3c501d1e",
   "metadata": {},
   "source": [
    "#### Panda "
   ]
  },
  {
   "cell_type": "code",
   "execution_count": null,
   "id": "a98f24ec",
   "metadata": {},
   "outputs": [
    {
     "name": "stdout",
     "output_type": "stream",
     "text": [
      "      student  rank  marks\n",
      "RowA    Afrin     1     95\n",
      "RowB   Trisha     2     92\n",
      "RowC  Tanveer     3     80\n",
      "RowD    Akram     4     85\n",
      "      student  rank  marks\n",
      "RowC  Tanveer     3     80\n",
      "RowD    Akram     4     85\n"
     ]
    }
   ],
   "source": [
    "import pandas as pd\n",
    "import numpy as np\n",
    "data={\n",
    "    'student':[\"Afrin\",\"Trisha\",\"Tanveer\",\"Akram\"],\n",
    "    'rank': [1,2,3,4],\n",
    "    'marks':[95,92,80,85]\n",
    "}\n",
    "\n",
    "df=pd.DataFrame(data,index=['RowA','RowB','RowC','RowD'])\n",
    "print(df)\n",
    "print(df.tail(2))"
   ]
  },
  {
   "cell_type": "markdown",
   "id": "6350c21b",
   "metadata": {},
   "source": [
    "#### Attributes"
   ]
  },
  {
   "cell_type": "code",
   "execution_count": 22,
   "id": "c0afa14c",
   "metadata": {},
   "outputs": [
    {
     "name": "stdout",
     "output_type": "stream",
     "text": [
      "   student  rank  marks\n",
      "0    Afrin     1     95\n",
      "1   Trisha     2     92\n",
      "2  Tanveer     3     80\n",
      "3    Akram     4     85\n",
      "0   Monser     1     95\n",
      "1    Fahim     2     92\n",
      "2   Shakil     3     80\n",
      "3   Shakib     4     85\n"
     ]
    }
   ],
   "source": [
    "import pandas as pd\n",
    "import numpy as np\n",
    "data={\n",
    "    'student':[\"Afrin\",\"Trisha\",\"Tanveer\",\"Akram\"],\n",
    "    'rank': [1,2,3,4],\n",
    "    'marks':[95,92,80,85]\n",
    "}\n",
    "\n",
    "data2={\n",
    "    'student':[\"Monser\",\"Fahim\",\"Shakil\",\"Shakib\"],\n",
    "    'rank': [1,2,3,4],\n",
    "    'marks':[95,92,80,85]\n",
    "}\n",
    "\n",
    "\n",
    "df1 = pd.DataFrame(data)\n",
    "df2 = pd.DataFrame(data2)\n",
    "\n",
    "resDF = pd.concat([df1, df2])\n",
    "\n",
    "print(resDF)\n",
    "\n"
   ]
  },
  {
   "cell_type": "markdown",
   "id": "70bdb341",
   "metadata": {},
   "source": [
    "#### Series"
   ]
  },
  {
   "cell_type": "code",
   "execution_count": 23,
   "id": "5ecf6ef8",
   "metadata": {},
   "outputs": [
    {
     "name": "stdout",
     "output_type": "stream",
     "text": [
      "0    10\n",
      "1    20\n",
      "2    30\n",
      "3    40\n",
      "4    50\n",
      "dtype: int64\n"
     ]
    }
   ],
   "source": [
    "import pandas as pd\n",
    "s=pd.Series([10,20,30,40,50])\n",
    "print(s)"
   ]
  },
  {
   "cell_type": "markdown",
   "id": "6217bd69",
   "metadata": {},
   "source": [
    "#### Combine series"
   ]
  },
  {
   "cell_type": "code",
   "execution_count": 29,
   "id": "c95bb46e",
   "metadata": {},
   "outputs": [
    {
     "name": "stdout",
     "output_type": "stream",
     "text": [
      "0     100\n",
      "1    2000\n",
      "2      30\n",
      "3     400\n",
      "4     500\n",
      "dtype: int64\n"
     ]
    }
   ],
   "source": [
    "import pandas as pd\n",
    "d1=pd.Series([10,2000,30,40,50])\n",
    "d2=pd.Series([100,200,3,400,500])\n",
    "\n",
    "def demo(x1,x2):\n",
    "    if(x1>x2):\n",
    "        return x1\n",
    "    else:\n",
    "        return x2\n",
    "\n",
    "res=d1.combine(d2,demo)\n",
    "print(res)"
   ]
  },
  {
   "cell_type": "markdown",
   "id": "bdeb8f06",
   "metadata": {},
   "source": [
    "## Read CSV"
   ]
  },
  {
   "cell_type": "code",
   "execution_count": 35,
   "id": "6a9a465b",
   "metadata": {},
   "outputs": [
    {
     "name": "stdout",
     "output_type": "stream",
     "text": [
      "   Id  SepalLengthCm  SepalWidthCm  PetalLengthCm  PetalWidthCm      Species\n",
      "0   1            5.1           3.5            1.4           0.2  Iris-setosa\n",
      "1   2            4.9           3.0            1.4           0.2  Iris-setosa\n",
      "2   3            4.7           3.2            1.3           0.2  Iris-setosa\n",
      "3   4            4.6           3.1            1.5           0.2  Iris-setosa\n",
      "4   5            5.0           3.6            1.4           0.2  Iris-setosa\n",
      "      Id  SepalLengthCm  SepalWidthCm  PetalLengthCm  PetalWidthCm  \\\n",
      "148  149            6.2           3.4            5.4           2.3   \n",
      "149  150            5.9           3.0            5.1           1.8   \n",
      "\n",
      "            Species  \n",
      "148  Iris-virginica  \n",
      "149  Iris-virginica  \n"
     ]
    }
   ],
   "source": [
    "import pandas as pd\n",
    "df= pd.read_csv('Iris.csv')\n",
    "print(df.head())\n",
    "print(df.tail(2))\n"
   ]
  },
  {
   "cell_type": "code",
   "execution_count": null,
   "id": "6420d093",
   "metadata": {},
   "outputs": [
    {
     "name": "stdout",
     "output_type": "stream",
     "text": [
      "              PetalWidthCm         Species\n",
      "SepalWidthCm                              \n",
      "3.5                    0.2     Iris-setosa\n",
      "3.0                    0.2     Iris-setosa\n",
      "3.2                    0.2     Iris-setosa\n",
      "3.1                    0.2     Iris-setosa\n",
      "3.6                    0.2     Iris-setosa\n",
      "...                    ...             ...\n",
      "3.0                    2.3  Iris-virginica\n",
      "2.5                    1.9  Iris-virginica\n",
      "3.0                    2.0  Iris-virginica\n",
      "3.4                    2.3  Iris-virginica\n",
      "3.0                    1.8  Iris-virginica\n",
      "\n",
      "[150 rows x 2 columns]\n"
     ]
    }
   ],
   "source": [
    "import pandas as pd\n",
    "df= pd.read_csv('Iris.csv',index_col=\"SepalWidthCm\")\n",
    "\n",
    "print(df[df.columns[3:5]])\n",
    "\n"
   ]
  },
  {
   "cell_type": "markdown",
   "id": "3a877dbf",
   "metadata": {},
   "source": [
    "#### Sorting"
   ]
  },
  {
   "cell_type": "code",
   "execution_count": 43,
   "id": "68b4cf2e",
   "metadata": {},
   "outputs": [
    {
     "name": "stdout",
     "output_type": "stream",
     "text": [
      "      Id  SepalLengthCm  SepalWidthCm  PetalLengthCm  PetalWidthCm  \\\n",
      "60    61            5.0           2.0            3.5           1.0   \n",
      "62    63            6.0           2.2            4.0           1.0   \n",
      "119  120            6.0           2.2            5.0           1.5   \n",
      "68    69            6.2           2.2            4.5           1.5   \n",
      "87    88            6.3           2.3            4.4           1.3   \n",
      "..   ...            ...           ...            ...           ...   \n",
      "5      6            5.4           3.9            1.7           0.4   \n",
      "14    15            5.8           4.0            1.2           0.2   \n",
      "32    33            5.2           4.1            1.5           0.1   \n",
      "33    34            5.5           4.2            1.4           0.2   \n",
      "15    16            5.7           4.4            1.5           0.4   \n",
      "\n",
      "             Species  \n",
      "60   Iris-versicolor  \n",
      "62   Iris-versicolor  \n",
      "119   Iris-virginica  \n",
      "68   Iris-versicolor  \n",
      "87   Iris-versicolor  \n",
      "..               ...  \n",
      "5        Iris-setosa  \n",
      "14       Iris-setosa  \n",
      "32       Iris-setosa  \n",
      "33       Iris-setosa  \n",
      "15       Iris-setosa  \n",
      "\n",
      "[150 rows x 6 columns]\n"
     ]
    }
   ],
   "source": [
    "import pandas as pd\n",
    "df= pd.read_csv('Iris.csv')\n",
    "\n",
    "print(df.sort_values(by=[\"SepalWidthCm\"]))\n",
    "\n"
   ]
  }
 ],
 "metadata": {
  "kernelspec": {
   "display_name": ".venv",
   "language": "python",
   "name": "python3"
  },
  "language_info": {
   "codemirror_mode": {
    "name": "ipython",
    "version": 3
   },
   "file_extension": ".py",
   "mimetype": "text/x-python",
   "name": "python",
   "nbconvert_exporter": "python",
   "pygments_lexer": "ipython3",
   "version": "3.13.7"
  }
 },
 "nbformat": 4,
 "nbformat_minor": 5
}
