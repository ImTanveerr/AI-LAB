{
 "cells": [
  {
   "cell_type": "markdown",
   "id": "775bcc1b",
   "metadata": {},
   "source": [
    "# Function"
   ]
  },
  {
   "cell_type": "code",
   "execution_count": 3,
   "id": "18ff313a",
   "metadata": {},
   "outputs": [
    {
     "name": "stdout",
     "output_type": "stream",
     "text": [
      "Hello, World!\n"
     ]
    }
   ],
   "source": [
    "def greet():\n",
    "    print(\"Hello, World!\")\n",
    "\n",
    "greet()"
   ]
  },
  {
   "cell_type": "code",
   "execution_count": 4,
   "id": "c15c2bcb",
   "metadata": {},
   "outputs": [
    {
     "name": "stdout",
     "output_type": "stream",
     "text": [
      "8\n"
     ]
    }
   ],
   "source": [
    "def add(a, b):\n",
    "    return a + b    \n",
    "print(add(5, 3))  # Output: 8"
   ]
  },
  {
   "cell_type": "code",
   "execution_count": 6,
   "id": "97ac598d",
   "metadata": {},
   "outputs": [
    {
     "name": "stdout",
     "output_type": "stream",
     "text": [
      "Hello, Alice!\n"
     ]
    }
   ],
   "source": [
    "def greet(name):\n",
    "    print(f\"Hello, {name}!\")\n",
    "\n",
    "greet(\"Alice\")  # Output: Hello, Alice!"
   ]
  },
  {
   "cell_type": "code",
   "execution_count": 7,
   "id": "956129c1",
   "metadata": {},
   "outputs": [
    {
     "name": "stdout",
     "output_type": "stream",
     "text": [
      "6\n"
     ]
    }
   ],
   "source": [
    "def increment(number):\n",
    "    return number + 1\n",
    "\n",
    "print(increment(5))  # Output: 6"
   ]
  },
  {
   "cell_type": "code",
   "execution_count": 8,
   "id": "4006ec31",
   "metadata": {},
   "outputs": [
    {
     "name": "stdout",
     "output_type": "stream",
     "text": [
      "8\n"
     ]
    }
   ],
   "source": [
    "def increment(number,by):\n",
    "    return number + by\n",
    "print(increment(5, 3))  # Output: 8"
   ]
  },
  {
   "cell_type": "markdown",
   "id": "b79b9bed",
   "metadata": {},
   "source": [
    "# Lambda Functions"
   ]
  },
  {
   "cell_type": "code",
   "execution_count": 9,
   "id": "e646bc3c",
   "metadata": {},
   "outputs": [
    {
     "name": "stdout",
     "output_type": "stream",
     "text": [
      "50\n"
     ]
    }
   ],
   "source": [
    "value = lambda x: x *2\n",
    "print(value(25))  "
   ]
  },
  {
   "cell_type": "code",
   "execution_count": null,
   "id": "d74e98e3",
   "metadata": {},
   "outputs": [],
   "source": [
    "str = \"Hello, World!\"\n",
    "(lambda s: print(s))(str)  # Output: Hello, World!"
   ]
  },
  {
   "cell_type": "markdown",
   "id": "a74fc386",
   "metadata": {},
   "source": [
    "#### Multiply 3 arguments using Lambda"
   ]
  },
  {
   "cell_type": "code",
   "execution_count": 12,
   "id": "9b566776",
   "metadata": {},
   "outputs": [
    {
     "name": "stdout",
     "output_type": "stream",
     "text": [
      "24\n"
     ]
    }
   ],
   "source": [
    "value= lambda i,j,k: i*j* k\n",
    "print(value(2,3,4))  # Output: 24"
   ]
  },
  {
   "cell_type": "markdown",
   "id": "3a981a4e",
   "metadata": {},
   "source": [
    "#### Find max from 2 numbers"
   ]
  },
  {
   "cell_type": "code",
   "execution_count": 11,
   "id": "344c0321",
   "metadata": {},
   "outputs": [
    {
     "name": "stdout",
     "output_type": "stream",
     "text": [
      "20\n"
     ]
    }
   ],
   "source": [
    "result = lambda x, y: x if x > y else y\n",
    "print(result(10, 20))  # Output: 20"
   ]
  }
 ],
 "metadata": {
  "kernelspec": {
   "display_name": ".venv",
   "language": "python",
   "name": "python3"
  },
  "language_info": {
   "codemirror_mode": {
    "name": "ipython",
    "version": 3
   },
   "file_extension": ".py",
   "mimetype": "text/x-python",
   "name": "python",
   "nbconvert_exporter": "python",
   "pygments_lexer": "ipython3",
   "version": "3.13.7"
  }
 },
 "nbformat": 4,
 "nbformat_minor": 5
}
