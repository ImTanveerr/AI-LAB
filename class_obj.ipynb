{
 "cells": [
  {
   "cell_type": "markdown",
   "id": "938d90a9",
   "metadata": {},
   "source": [
    "#### Class"
   ]
  },
  {
   "cell_type": "code",
   "execution_count": 15,
   "id": "c8ae6c5f",
   "metadata": {},
   "outputs": [
    {
     "name": "stdout",
     "output_type": "stream",
     "text": [
      "yamaha\n",
      "This is a self function\n",
      "Bike name is yamaha\n",
      "Bike body is GENUINE\n",
      "Bike engine is 125\n"
     ]
    }
   ],
   "source": [
    "class Bike:\n",
    "    name = \"yamaha\"\n",
    "    body = \"GENUINE\"\n",
    "    engine = 125\n",
    "    def demo(self):\n",
    "        print(\"This is a self function\")\n",
    "        print(\"Bike name is\", self.name)\n",
    "        print(\"Bike body is\", self.body)\n",
    "        print(\"Bike engine is\", self.engine)\n",
    "\n",
    "b1 = Bike()\n",
    "\n",
    "print(b1.name)\n",
    "\n",
    "b1.demo()"
   ]
  },
  {
   "cell_type": "markdown",
   "id": "210263f1",
   "metadata": {},
   "source": [
    "#### Function init"
   ]
  },
  {
   "cell_type": "code",
   "execution_count": 16,
   "id": "6282777f",
   "metadata": {},
   "outputs": [
    {
     "name": "stdout",
     "output_type": "stream",
     "text": [
      "My name is Alice, I am 20 years old.\n"
     ]
    }
   ],
   "source": [
    "class Student:\n",
    "    def __init__(self, name, age):\n",
    "        self.name = name\n",
    "        self.age = age\n",
    "\n",
    "    def display(self):\n",
    "        print(f\"My name is {self.name}, I am {self.age} years old.\")\n",
    "    \n",
    "s1 = Student(\"Alice\", 20)\n",
    "s1.display()"
   ]
  }
 ],
 "metadata": {
  "kernelspec": {
   "display_name": ".venv",
   "language": "python",
   "name": "python3"
  },
  "language_info": {
   "codemirror_mode": {
    "name": "ipython",
    "version": 3
   },
   "file_extension": ".py",
   "mimetype": "text/x-python",
   "name": "python",
   "nbconvert_exporter": "python",
   "pygments_lexer": "ipython3",
   "version": "3.13.7"
  }
 },
 "nbformat": 4,
 "nbformat_minor": 5
}
