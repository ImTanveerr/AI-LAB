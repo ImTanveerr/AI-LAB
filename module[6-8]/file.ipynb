{
 "cells": [
  {
   "cell_type": "markdown",
   "id": "1360f15a",
   "metadata": {},
   "source": [
    "### File Read\n"
   ]
  },
  {
   "cell_type": "code",
   "execution_count": 45,
   "id": "bed00330",
   "metadata": {},
   "outputs": [
    {
     "name": "stdout",
     "output_type": "stream",
     "text": [
      "Hello Tanveer\n",
      "How are you\n",
      "T\n",
      "<class 'str'>\n",
      "True\n"
     ]
    }
   ],
   "source": [
    "file = open(\"../assets/sample.txt\",\"r\")\n",
    "content = file.read()\n",
    "\n",
    "print(content)\n",
    "print(type(content))\n",
    "\n",
    "file.close()\n",
    "print(file.closed)"
   ]
  },
  {
   "cell_type": "code",
   "execution_count": 46,
   "id": "6ad24ffa",
   "metadata": {},
   "outputs": [
    {
     "name": "stdout",
     "output_type": "stream",
     "text": [
      "['Hello Tanveer\\n', 'How are you\\n', 'T']\n",
      "['Hello Tanveer', 'How are you', 'T']\n",
      "['Hello Tanveer', 'How are you']\n"
     ]
    }
   ],
   "source": [
    "file = open(\"../assets/sample.txt\",\"r\")\n",
    "\n",
    "content = file.readlines() # each line as an element in list\n",
    "print(content)\n",
    "\n",
    "content = list(map(str.strip,content)) # to remove newline characters  \n",
    "print(content)\n",
    "\n",
    "filter_content = list(filter(lambda x : len(x)>1,content))\n",
    "\n",
    "print(filter_content)"
   ]
  },
  {
   "cell_type": "code",
   "execution_count": 47,
   "id": "79eb4bc7",
   "metadata": {},
   "outputs": [
    {
     "name": "stdout",
     "output_type": "stream",
     "text": [
      "['Hello Tanveer\\n', 'How are you\\n', 'T']\n",
      "True\n"
     ]
    }
   ],
   "source": [
    "with open(\"../assets/sample.txt\",\"r\") as file:  # using with statement to handle file closing\n",
    "  content = file.readlines()\n",
    "  print(content)\n",
    "\n",
    "print(file.closed)"
   ]
  },
  {
   "cell_type": "code",
   "execution_count": 49,
   "id": "c777f9c2",
   "metadata": {},
   "outputs": [
    {
     "name": "stdout",
     "output_type": "stream",
     "text": [
      "Hello Tanveer\n",
      "How are you\n",
      "T\n"
     ]
    }
   ],
   "source": [
    "with open(\"../assets/sample.txt\",\"r\") as file:\n",
    "  for line in file:\n",
    "    # print(line)     # print original line with newline\n",
    "    l = line.strip() # to remove newline characters    \n",
    "    print(l)        # print stripped line\n",
    "\n",
    "    "
   ]
  },
  {
   "cell_type": "markdown",
   "id": "fb2e040b",
   "metadata": {},
   "source": [
    "### File Write"
   ]
  }
 ],
 "metadata": {
  "kernelspec": {
   "display_name": ".venv",
   "language": "python",
   "name": "python3"
  },
  "language_info": {
   "codemirror_mode": {
    "name": "ipython",
    "version": 3
   },
   "file_extension": ".py",
   "mimetype": "text/x-python",
   "name": "python",
   "nbconvert_exporter": "python",
   "pygments_lexer": "ipython3",
   "version": "3.13.7"
  }
 },
 "nbformat": 4,
 "nbformat_minor": 5
}
