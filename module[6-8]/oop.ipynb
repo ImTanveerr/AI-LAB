{
 "cells": [
  {
   "cell_type": "markdown",
   "id": "d95f1e38",
   "metadata": {},
   "source": [
    "#### Class and Object"
   ]
  },
  {
   "cell_type": "code",
   "execution_count": 5,
   "id": "de4a022e",
   "metadata": {},
   "outputs": [
    {
     "name": "stdout",
     "output_type": "stream",
     "text": [
      "photo captured in Iphone17\n",
      "100\n"
     ]
    }
   ],
   "source": [
    "class Phone:\n",
    "  category = \"Electronics\"\n",
    "\n",
    "  # constructor\n",
    "\n",
    "  def __init__(self,model , battery , camera,battery_percentage=100):\n",
    "    self.model = model\n",
    "    self.battery = battery\n",
    "    self.camera = camera\n",
    "    self.battery_percentage = battery_percentage\n",
    "\n",
    "  # methods\n",
    "  def charge(self,hour):\n",
    "    print(f\"charge completed by {hour}\")\n",
    "\n",
    "  def capture(self,photo):\n",
    "    if(self.battery_percentage)<=0:\n",
    "      print(\"No charge\")\n",
    "    else:\n",
    "      self.battery_percentage-=photo\n",
    "      print(f\"photo captured in {self.model}\")\n",
    "\n",
    "\n",
    "\n",
    "class Cooling_Mechanism:\n",
    "  def __init__(self,cooling_method):\n",
    "    self.cooling_method= cooling_method\n",
    "\n",
    "\n",
    "  #methods\n",
    "  def cooling_on(self):\n",
    "    print(f\"the system is being cool by {self.cooling_method}\")\n",
    "\n",
    "    \n",
    "apple = Phone(\"Iphone17\",3000,40)\n",
    "blueberry = Phone(\"B-17\",4000,30)\n",
    "motorola = Phone(\"M-17\",3500,35)\n",
    "apple.capture(10)\n",
    "print(motorola.battery_percentage)"
   ]
  },
  {
   "cell_type": "markdown",
   "id": "ddc7cf35",
   "metadata": {},
   "source": [
    "#### Single Inheritance"
   ]
  },
  {
   "cell_type": "code",
   "execution_count": null,
   "id": "75af0571",
   "metadata": {},
   "outputs": [
    {
     "name": "stdout",
     "output_type": "stream",
     "text": [
      "50\n"
     ]
    }
   ],
   "source": [
    "class SmartPhone(Phone):\n",
    "    def __init__(self, model, battery, camera,processor):\n",
    "        super().__init__(model, battery, camera)\n",
    "        self.processor=processor\n",
    "\n",
    "pro=SmartPhone(\"A\",10000,50,\"snapdragon\")\n",
    "print(pro.camera)"
   ]
  },
  {
   "cell_type": "markdown",
   "id": "f30123dc",
   "metadata": {},
   "source": [
    "#### Multiple Inheritance"
   ]
  },
  {
   "cell_type": "code",
   "execution_count": 13,
   "id": "88915597",
   "metadata": {},
   "outputs": [
    {
     "name": "stdout",
     "output_type": "stream",
     "text": [
      "SD\n",
      "5000\n",
      "Nitrogen\n",
      "the system is being cool by Nitrogen\n",
      "None\n",
      "charge completed by 1\n",
      "None\n"
     ]
    }
   ],
   "source": [
    "class SmartPhone_CoolingMode(SmartPhone,Cooling_Mechanism):\n",
    "   def __init__(self,model , battery , camera,processor,cooling_method):\n",
    "    SmartPhone.__init__(self,model,battery,camera,processor)\n",
    "    Cooling_Mechanism.__init__(self,cooling_method)\n",
    "\n",
    "\n",
    "\n",
    "pro_cooling = SmartPhone_CoolingMode(\"Y\",5000,100,\"SD\",\"Nitrogen\")\n",
    "\n",
    "print(pro_cooling.processor) # SmartPhone class theke\n",
    "print(pro_cooling.battery) # Phone class theke\n",
    "print(pro_cooling.cooling_method) # Cooling_Mechanism class theke\n",
    "print(pro_cooling.cooling_on()) # Cooling_Mechanism class er method\n",
    "print(pro_cooling.charge(1)) # SmartPhone er modified charge jeta Phone class theke inherited"
   ]
  },
  {
   "cell_type": "markdown",
   "id": "4f4db8fb",
   "metadata": {},
   "source": [
    "#### Polymorpism"
   ]
  },
  {
   "cell_type": "code",
   "execution_count": null,
   "id": "ba5e25ba",
   "metadata": {},
   "outputs": [],
   "source": [
    "class Camera:\n",
    "  def __init__(self , name):\n",
    "    self.name = name\n",
    "\n",
    " # method\n",
    "  def capture(self):\n",
    "    print(\"a photo is captured\")\n",
    "     "
   ]
  },
  {
   "cell_type": "code",
   "execution_count": 20,
   "id": "84e04981",
   "metadata": {},
   "outputs": [
    {
     "name": "stdout",
     "output_type": "stream",
     "text": [
      "Photo is captured by a IPhone \n",
      "Photo is captured by a Canon\n",
      "Photo is captured by a DJI \n"
     ]
    }
   ],
   "source": [
    "class Smart_Phone(Camera):\n",
    "  def __init__(self,name,resolution):\n",
    "    super().__init__(name)\n",
    "    self.resolution = resolution\n",
    "\n",
    "  #method overriding\n",
    "  def capture(self):\n",
    "    print(f'Photo is captured by a {self.name} ')\n",
    "\n",
    " \n",
    "class DSLR(Camera):\n",
    "  def __init__(self,name,resolution):\n",
    "    super().__init__(name)\n",
    "    self.resolution = resolution\n",
    "\n",
    "  def capture(self):\n",
    "      print(f'Photo is captured by a {self.name}')\n",
    "\n",
    "\n",
    "\n",
    "class Drone(Camera):\n",
    "  def __init__(self,name,resolution):\n",
    "    super().__init__(name)\n",
    "    self.resolution = resolution\n",
    "\n",
    "  def capture(self):\n",
    "       print(f'Photo is captured by a {self.name} ')\n",
    "\n",
    "\n",
    "phone = Smart_Phone(\"IPhone\",30)\n",
    "dslr = DSLR (\"Canon\",200)\n",
    "drone = Drone(\"DJI\",150)\n",
    "\n",
    "phone.capture()\n",
    "dslr.capture()\n",
    "drone.capture()"
   ]
  },
  {
   "cell_type": "markdown",
   "id": "26e3c41d",
   "metadata": {},
   "source": [
    "#### Encapsulation\n",
    "getter and setter"
   ]
  },
  {
   "cell_type": "code",
   "execution_count": null,
   "id": "df4d6ee9",
   "metadata": {},
   "outputs": [
    {
     "name": "stdout",
     "output_type": "stream",
     "text": [
      "Phone\n",
      "Phitron\n"
     ]
    }
   ],
   "source": [
    "\n",
    "# design\n",
    "class Mobile:\n",
    "  def __init__(self,name,model,imei):\n",
    "    self.__name = name\n",
    "    self.__model = model\n",
    "    self.__imei = imei # private\n",
    "\n",
    "  def charge(self):\n",
    "    print(\"phone is charging\")\n",
    "\n",
    "  # method imei ta paite pari\n",
    "  def imei_getter(self):\n",
    "    return self.__imei\n",
    "  def model_getter(self):\n",
    "    return self.__model\n",
    "\n",
    "\n",
    "\n",
    "  def name_getter(self):\n",
    "    return self.__name\n",
    "\n",
    "\n",
    "  def name_setter(self,name):\n",
    "    self.__name = name\n",
    "\n",
    "\n",
    "\n",
    "#outside world ( user )\n",
    "\n",
    "# registration\n",
    "iphone = Mobile(\"Phone\",\"17\",\"1xkaf1\")\n",
    "print(iphone.name_getter())\n",
    "\n",
    "\n",
    "iphone.name_setter(\"Phitron\")\n",
    "print(iphone.name_getter())\n",
    "\n"
   ]
  },
  {
   "cell_type": "markdown",
   "id": "0ab51987",
   "metadata": {},
   "source": [
    "#### Abstraction"
   ]
  },
  {
   "cell_type": "code",
   "execution_count": null,
   "id": "b951a809",
   "metadata": {},
   "outputs": [
    {
     "name": "stdout",
     "output_type": "stream",
     "text": [
      "Making a call using IPhone\n"
     ]
    }
   ],
   "source": [
    "from abc import  ABC , abstractmethod\n",
    "\n",
    "class Telephone(ABC):\n",
    "  @abstractmethod\n",
    "  def make_call(self):\n",
    "    pass\n",
    "\n",
    "\n",
    "class Sphone(Telephone):\n",
    "  def make_call(self):\n",
    "    print(\"Making a call using SPhone\")\n",
    "\n",
    "\n",
    "class Iphone(Telephone):\n",
    "   def make_call(self):\n",
    "    print(\"Making a call using IPhone\")\n",
    "\n",
    "ip = Iphone()\n",
    "\n",
    "ip.make_call()\n"
   ]
  }
 ],
 "metadata": {
  "kernelspec": {
   "display_name": ".venv",
   "language": "python",
   "name": "python3"
  },
  "language_info": {
   "codemirror_mode": {
    "name": "ipython",
    "version": 3
   },
   "file_extension": ".py",
   "mimetype": "text/x-python",
   "name": "python",
   "nbconvert_exporter": "python",
   "pygments_lexer": "ipython3",
   "version": "3.13.7"
  }
 },
 "nbformat": 4,
 "nbformat_minor": 5
}
