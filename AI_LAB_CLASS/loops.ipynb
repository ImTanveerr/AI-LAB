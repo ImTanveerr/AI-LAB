{
 "cells": [
  {
   "cell_type": "markdown",
   "id": "4fef592c",
   "metadata": {},
   "source": [
    "# For loop"
   ]
  },
  {
   "cell_type": "code",
   "execution_count": null,
   "id": "b148a449",
   "metadata": {},
   "outputs": [],
   "source": [
    "for number in range(5):\n",
    "    print(\"Hello\",number)  # Output: 0, 1, 2, 3, 4"
   ]
  },
  {
   "cell_type": "markdown",
   "id": "86f13b9a",
   "metadata": {},
   "source": [
    "#### Nasted Loop\n"
   ]
  },
  {
   "cell_type": "code",
   "execution_count": null,
   "id": "1e6c74d6",
   "metadata": {},
   "outputs": [],
   "source": [
    "for x in range(5):\n",
    "    for y in range(3):\n",
    "        print(f\"({x}, {y})\")  "
   ]
  },
  {
   "cell_type": "markdown",
   "id": "6bdc8aa7",
   "metadata": {},
   "source": [
    "#### Iterables"
   ]
  },
  {
   "cell_type": "code",
   "execution_count": null,
   "id": "48be5ea0",
   "metadata": {},
   "outputs": [],
   "source": [
    "print(type(range(5)))  # Output: <class 'range'>\n",
    "for x in range(5):"
   ]
  },
  {
   "cell_type": "code",
   "execution_count": null,
   "id": "eb999434",
   "metadata": {},
   "outputs": [],
   "source": [
    "for item in shopping_list:\n",
    "    print(item) "
   ]
  },
  {
   "cell_type": "markdown",
   "id": "acdab0a0",
   "metadata": {},
   "source": [
    "# While Loop"
   ]
  },
  {
   "cell_type": "code",
   "execution_count": null,
   "id": "39a0b5bd",
   "metadata": {},
   "outputs": [],
   "source": [
    "number = 100\n",
    "while number > 0:\n",
    "    print(number)\n",
    "    number -= 1"
   ]
  },
  {
   "cell_type": "code",
   "execution_count": null,
   "id": "456af6db",
   "metadata": {},
   "outputs": [],
   "source": [
    "for number in range(1,10):\n",
    "    if number % 2 == 0:\n",
    "        print(number)  # Output: 2, 4, 6, 8"
   ]
  }
 ],
 "metadata": {
  "kernelspec": {
   "display_name": ".venv",
   "language": "python",
   "name": "python3"
  },
  "language_info": {
   "codemirror_mode": {
    "name": "ipython",
    "version": 3
   },
   "file_extension": ".py",
   "mimetype": "text/x-python",
   "name": "python",
   "nbconvert_exporter": "python",
   "pygments_lexer": "ipython3",
   "version": "3.13.7"
  }
 },
 "nbformat": 4,
 "nbformat_minor": 5
}
