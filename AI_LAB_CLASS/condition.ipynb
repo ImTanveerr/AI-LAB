{
 "cells": [
  {
   "cell_type": "markdown",
   "id": "ea80ea35",
   "metadata": {},
   "source": [
    "# condition"
   ]
  },
  {
   "cell_type": "code",
   "execution_count": null,
   "id": "ea9b049b",
   "metadata": {},
   "outputs": [],
   "source": [
    "temp = 5\n",
    "if temp >= 40:\n",
    "    print(\"It's a hot day\")\n",
    "    print(\"Drink plenty of water\")\n",
    "elif temp <= 10:\n",
    "     print(\"It's a cold day\")\n",
    "     print(\"Wear warm clothes\")\n",
    "else:\n",
    "    print(\"It's a lovely day\")\n",
    "print(\"Enjoy your day\")"
   ]
  },
  {
   "cell_type": "markdown",
   "id": "60955058",
   "metadata": {},
   "source": [
    "#### Ternary operator"
   ]
  },
  {
   "cell_type": "code",
   "execution_count": 15,
   "id": "2341b4ba",
   "metadata": {},
   "outputs": [
    {
     "name": "stdout",
     "output_type": "stream",
     "text": [
      "Eligible\n"
     ]
    }
   ],
   "source": [
    "age = 20\n",
    "message= \"Eligible\" if age >= 18 else \"Not eligible\"\n",
    "print(message)"
   ]
  }
 ],
 "metadata": {
  "kernelspec": {
   "display_name": ".venv",
   "language": "python",
   "name": "python3"
  },
  "language_info": {
   "codemirror_mode": {
    "name": "ipython",
    "version": 3
   },
   "file_extension": ".py",
   "mimetype": "text/x-python",
   "name": "python",
   "nbconvert_exporter": "python",
   "pygments_lexer": "ipython3",
   "version": "3.13.7"
  }
 },
 "nbformat": 4,
 "nbformat_minor": 5
}
