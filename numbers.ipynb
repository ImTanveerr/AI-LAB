{
 "cells": [
  {
   "cell_type": "markdown",
   "id": "289585b5",
   "metadata": {},
   "source": [
    "# Numbers"
   ]
  },
  {
   "cell_type": "code",
   "execution_count": null,
   "id": "2d6d465e",
   "metadata": {},
   "outputs": [],
   "source": [
    "print(10/3) # Output: 3.3333333333333335\n",
    "print(10//3) # Output: 3\n",
    "print(10 % 3) # Output: 1   \n",
    "print(10 *3) # Output: 30\n",
    "print(10 ** 3) # Output: 1000"
   ]
  },
  {
   "cell_type": "markdown",
   "id": "f744cd95",
   "metadata": {},
   "source": [
    "#### Methods"
   ]
  },
  {
   "cell_type": "code",
   "execution_count": 12,
   "id": "4a8ad3a6",
   "metadata": {},
   "outputs": [
    {
     "name": "stdout",
     "output_type": "stream",
     "text": [
      "2\n",
      "2.9\n",
      "3\n"
     ]
    }
   ],
   "source": [
    "import math\n",
    "print(round(2.2)) # Output: 2\n",
    "print(abs(-2.9)) # Output: 2.9\n",
    "print(math.ceil(2.2)) # Output: 3"
   ]
  }
 ],
 "metadata": {
  "kernelspec": {
   "display_name": ".venv",
   "language": "python",
   "name": "python3"
  },
  "language_info": {
   "codemirror_mode": {
    "name": "ipython",
    "version": 3
   },
   "file_extension": ".py",
   "mimetype": "text/x-python",
   "name": "python",
   "nbconvert_exporter": "python",
   "pygments_lexer": "ipython3",
   "version": "3.13.7"
  }
 },
 "nbformat": 4,
 "nbformat_minor": 5
}
