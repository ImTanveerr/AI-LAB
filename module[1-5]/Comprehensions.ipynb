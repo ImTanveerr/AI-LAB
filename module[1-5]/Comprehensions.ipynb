{
 "cells": [
  {
   "cell_type": "markdown",
   "id": "cd253807",
   "metadata": {},
   "source": [
    "### Dictionary Comprehension"
   ]
  },
  {
   "cell_type": "code",
   "execution_count": 2,
   "id": "6812efdb",
   "metadata": {},
   "outputs": [
    {
     "name": "stdout",
     "output_type": "stream",
     "text": [
      "{2: 4, 4: 16, 6: 36, 8: 64, 10: 100}\n"
     ]
    }
   ],
   "source": [
    "square= {x:x**2 for x in range (1,11) if x%2==0}\n",
    "print(square)"
   ]
  },
  {
   "cell_type": "code",
   "execution_count": 3,
   "id": "cecd8f31",
   "metadata": {},
   "outputs": [
    {
     "name": "stdout",
     "output_type": "stream",
     "text": [
      "{(10, 10.5): 'Dhaka', (20.5, 30.1): 'Chittagong', (50.2, 60.3): 'Khulna'}\n"
     ]
    }
   ],
   "source": [
    "co_ordinates= [(10,10.5),(20.5,30.1),(50.2,60.3)]\n",
    "Locations= [\"Dhaka\",\"Chittagong\",\"Khulna\"]\n",
    "\n",
    "exact_location= {co_or:loc for co_or,loc in zip(co_ordinates,Locations)} \n",
    "print(exact_location)"
   ]
  }
 ],
 "metadata": {
  "kernelspec": {
   "display_name": ".venv",
   "language": "python",
   "name": "python3"
  },
  "language_info": {
   "codemirror_mode": {
    "name": "ipython",
    "version": 3
   },
   "file_extension": ".py",
   "mimetype": "text/x-python",
   "name": "python",
   "nbconvert_exporter": "python",
   "pygments_lexer": "ipython3",
   "version": "3.13.7"
  }
 },
 "nbformat": 4,
 "nbformat_minor": 5
}
