{
 "cells": [
  {
   "cell_type": "markdown",
   "id": "7d1a6e80",
   "metadata": {},
   "source": [
    "## SET \n",
    "Set is mutuable and unorder and unique elements,\n",
    "can't have duplicate elements"
   ]
  },
  {
   "cell_type": "code",
   "execution_count": 19,
   "id": "ca05207a",
   "metadata": {},
   "outputs": [
    {
     "name": "stdout",
     "output_type": "stream",
     "text": [
      "<class 'set'> {1, 2, 3, 4, 5}\n",
      "3 is present\n"
     ]
    }
   ],
   "source": [
    "A={1,2,4,1,5,3}\n",
    "print(type(A),A) #no duplicate values and unordered\n",
    "\n",
    "\n",
    "if 3 in A:\n",
    "    print(\"3 is present\")\n",
    "else:\n",
    "        print(\"3 is absent\")\n"
   ]
  },
  {
   "cell_type": "markdown",
   "id": "6e68c1de",
   "metadata": {},
   "source": [
    "Empty set can become a dict, so we need to typescraft for empty set declare\n"
   ]
  },
  {
   "cell_type": "code",
   "execution_count": 20,
   "id": "53a9352a",
   "metadata": {},
   "outputs": [
    {
     "name": "stdout",
     "output_type": "stream",
     "text": [
      "<class 'set'> set()\n",
      "<class 'dict'> {}\n"
     ]
    }
   ],
   "source": [
    "S=set()\n",
    "print(type(S),S) #empty set\n",
    "\n",
    "s={}\n",
    "print(type(s),s) #dict"
   ]
  },
  {
   "cell_type": "markdown",
   "id": "4f135ec1",
   "metadata": {},
   "source": [
    "acees elements"
   ]
  },
  {
   "cell_type": "code",
   "execution_count": 21,
   "id": "4ba133cb",
   "metadata": {},
   "outputs": [
    {
     "name": "stdout",
     "output_type": "stream",
     "text": [
      "Sum: 21\n"
     ]
    }
   ],
   "source": [
    "S= {1,1,2,3,4,5,6,5}\n",
    "sum=0\n",
    "for element in S: \n",
    "    sum+=element #duplicate values are not counted\n",
    "print(\"Sum:\",sum)"
   ]
  },
  {
   "cell_type": "markdown",
   "id": "a4afb427",
   "metadata": {},
   "source": [
    "Mutuable\n"
   ]
  },
  {
   "cell_type": "code",
   "execution_count": 22,
   "id": "829d8a79",
   "metadata": {},
   "outputs": [
    {
     "name": "stdout",
     "output_type": "stream",
     "text": [
      "{1, 2, 3, 4, 5, 6, 7}\n",
      "{0, 1, 2, 3, 4, 5, 6, 7}\n",
      "{0, 2, 3, 4, 5, 6, 7}\n"
     ]
    }
   ],
   "source": [
    "S= {1,1,2,3,4,5,6,5}\n",
    "S.add(7)\n",
    "print(S)\n",
    "\n",
    "S.add(0)\n",
    "print(S)\n",
    "\n",
    "S.remove(1)\n",
    "print(S)"
   ]
  },
  {
   "cell_type": "markdown",
   "id": "3aff7d4a",
   "metadata": {},
   "source": [
    "Set methods"
   ]
  },
  {
   "cell_type": "code",
   "execution_count": null,
   "id": "cf3900f3",
   "metadata": {},
   "outputs": [
    {
     "name": "stdout",
     "output_type": "stream",
     "text": [
      "Union: {1, 2, 3, 4, 5}\n",
      "Intersection: {2}\n"
     ]
    }
   ],
   "source": [
    "a={1,2,3}\n",
    "b={2,4,5}\n",
    "print(\"Union:\",a|b)\n",
    "print(\"Intersection:\",a&b)\n"
   ]
  }
 ],
 "metadata": {
  "kernelspec": {
   "display_name": ".venv",
   "language": "python",
   "name": "python3"
  },
  "language_info": {
   "codemirror_mode": {
    "name": "ipython",
    "version": 3
   },
   "file_extension": ".py",
   "mimetype": "text/x-python",
   "name": "python",
   "nbconvert_exporter": "python",
   "pygments_lexer": "ipython3",
   "version": "3.13.7"
  }
 },
 "nbformat": 4,
 "nbformat_minor": 5
}
