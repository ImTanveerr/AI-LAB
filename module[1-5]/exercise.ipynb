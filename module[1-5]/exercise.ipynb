{
 "cells": [
  {
   "cell_type": "code",
   "execution_count": null,
   "id": "8ae76657",
   "metadata": {},
   "outputs": [
    {
     "name": "stdout",
     "output_type": "stream",
     "text": [
      "[1, 2, 3, 4, 5, 6]\n"
     ]
    }
   ],
   "source": [
    "lst = [[1, 2], [3, 4], [5, 6]]\n",
    "lst2 = []\n",
    "for sublist in lst:\n",
    "    for item in sublist:\n",
    "        lst2.append(item)\n",
    "# print(lst2)\n",
    "\n",
    "\n",
    "# [expected_value for expected_value in lst condition]\n",
    "\n",
    "for i in lst:\n",
    "        for j in i:\n",
    "             pass\n",
    "\n",
    "lst2 = [j for i in lst for j in i]\n",
    "# print(lst2)"
   ]
  },
  {
   "cell_type": "code",
   "execution_count": 1,
   "id": "719967b9",
   "metadata": {},
   "outputs": [
    {
     "name": "stdout",
     "output_type": "stream",
     "text": [
      "John\n",
      "25\n",
      "New York\n",
      "[1, 2, 3]\n",
      "{'a': 1}\n",
      "([2, 4, 7], 77, 88)\n",
      "{'b': 2, 'c': 3}\n"
     ]
    }
   ],
   "source": [
    "dict1 = {'a': 1, 'b': 2, 'c': 3}\n",
    "\n",
    "dict2 = {'name': 'John', 'age': 25, 'city': 'New York'}\n",
    "\n",
    "\n",
    "for value in dict2.values(): # items(), keys()\n",
    "\n",
    "    print(value)\n",
    "\n",
    "\n",
    "def func(args, kwargs, *args2, **kwargs2):\n",
    "    print(args)\n",
    "    print(kwargs)\n",
    "    print(args2)\n",
    "    print(kwargs2)\n",
    "\n",
    "\n",
    "func([1, 2, 3], {'a': 1}, [2, 4, 7], 77, 88, b=2, c=3)"
   ]
  },
  {
   "cell_type": "code",
   "execution_count": 2,
   "id": "a8bccb26",
   "metadata": {},
   "outputs": [
    {
     "name": "stdout",
     "output_type": "stream",
     "text": [
      "a 1\n",
      "b 2\n",
      "c 3\n",
      "aa 11\n",
      "bb 22\n",
      "cc 33\n",
      "{'a': 1, 'b': 2, 'c': 3, 'aa': 11, 'bb': 22, 'cc': 33}\n",
      "<class 'dict'>\n"
     ]
    }
   ],
   "source": [
    "dict1 = [{'a': 1, 'b': 2, 'c': 3}, {'aa': 11, 'bb': 22, 'cc': 33}]\n",
    "\n",
    "for d in dict1:\n",
    "    for k, v in d.items():\n",
    "        print(k, v)\n",
    "\n",
    "\n",
    "dict2 = {k:v for d in dict1 for k, v in d.items()}\n",
    "\n",
    "print(dict2)\n",
    "print(type(dict2))"
   ]
  }
 ],
 "metadata": {
  "kernelspec": {
   "display_name": ".venv",
   "language": "python",
   "name": "python3"
  },
  "language_info": {
   "codemirror_mode": {
    "name": "ipython",
    "version": 3
   },
   "file_extension": ".py",
   "mimetype": "text/x-python",
   "name": "python",
   "nbconvert_exporter": "python",
   "pygments_lexer": "ipython3",
   "version": "3.13.7"
  }
 },
 "nbformat": 4,
 "nbformat_minor": 5
}
