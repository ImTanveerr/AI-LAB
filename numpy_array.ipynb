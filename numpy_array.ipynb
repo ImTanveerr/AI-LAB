{
 "cells": [
  {
   "cell_type": "markdown",
   "id": "62b0cbca",
   "metadata": {},
   "source": [
    "#### Numpy Array"
   ]
  },
  {
   "cell_type": "code",
   "execution_count": 11,
   "id": "50e35408",
   "metadata": {},
   "outputs": [
    {
     "name": "stdout",
     "output_type": "stream",
     "text": [
      "[1 2 3 4 5 6 7 8 9]\n",
      "(9,)\n",
      "1\n",
      "[[1 2 3]\n",
      " [4 5 6]\n",
      " [7 8 9]]\n",
      "(3, 3)\n",
      "2\n"
     ]
    }
   ],
   "source": [
    "import numpy as np\n",
    "\n",
    "n = np.array((1, 2, 3, 4, 5, 6, 7, 8, 9))\n",
    "print(n)\n",
    "print(n.shape)  # Output: (9,) - 1D array with 9 elements\n",
    "print(n.ndim)    # Output: 1 - 1D array\n",
    "\n",
    "n = np.array([[1, 2, 3], [4, 5, 6], [7, 8, 9]])\n",
    "print(n)\n",
    "print(n.shape)  # Output: (3, 3) - 2D array with 3 rows and 3 columns\n",
    "print(n.ndim)    # Output: 2 - 2D array"
   ]
  },
  {
   "cell_type": "markdown",
   "id": "4b902678",
   "metadata": {},
   "source": [
    "#### Initialize Array"
   ]
  },
  {
   "cell_type": "code",
   "execution_count": 17,
   "id": "fa6d48f9",
   "metadata": {},
   "outputs": [
    {
     "name": "stdout",
     "output_type": "stream",
     "text": [
      "[[0. 0. 0.]\n",
      " [0. 0. 0.]\n",
      " [0. 0. 0.]]\n",
      "\n",
      "\n",
      "[[1. 1. 1. 1. 1.]\n",
      " [1. 1. 1. 1. 1.]]\n"
     ]
    }
   ],
   "source": [
    "import numpy as np\n",
    "\n",
    "n=np.zeros((3, 3))\n",
    "print(n)\n",
    "\n",
    "print(\"\\n\") \n",
    "\n",
    "n=np.ones((2, 5))\n",
    "print(n)"
   ]
  },
  {
   "cell_type": "markdown",
   "id": "e2a4f8d7",
   "metadata": {},
   "source": [
    "#### Numpay Array Slicing\n"
   ]
  },
  {
   "cell_type": "code",
   "execution_count": null,
   "id": "e0767946",
   "metadata": {},
   "outputs": [
    {
     "name": "stdout",
     "output_type": "stream",
     "text": [
      "1\n",
      "[1 2 3]\n",
      "[1 4 7]\n",
      "[[1 2 3]\n",
      " [4 5 6]\n",
      " [7 8 9]]\n"
     ]
    }
   ],
   "source": [
    "import numpy as np\n",
    "n=np.array([[1, 2, 3], [4, 5, 6], [7, 8, 9]])\n",
    "\n",
    "print(n[0, 0])  # Accessing element at row 0, column 0\n",
    "print(n[0, :])  # Accessing all elements in row 0\n",
    "print(n[:, 0])  # Accessing all elements in column 0\n",
    "print(n[0:3])  # Accessing elements from row 1 to row 2 (exclusive)\n"
   ]
  },
  {
   "cell_type": "code",
   "execution_count": null,
   "id": "b54b58aa",
   "metadata": {},
   "outputs": [
    {
     "name": "stdout",
     "output_type": "stream",
     "text": [
      "[3 4 5]\n"
     ]
    }
   ],
   "source": [
    "import numpy as np\n",
    "\n",
    "n=np.array((1, 2, 3, 4, 5, 6, 7, 8, 9))\n",
    "print(n[2:5]) # Accessing elements from index 2 to 4 (exclusive)"
   ]
  },
  {
   "cell_type": "code",
   "execution_count": null,
   "id": "8bb13227",
   "metadata": {},
   "outputs": [],
   "source": [
    "import numpy as np\n",
    "\n",
    "n=np.array([1, 2, 3, 4, 5, 6, 7, 8, 9])\n",
    "\n",
    "print(n[2:5]) \n",
    "print(n.shape) \n",
    "print(n.ndim) "
   ]
  },
  {
   "cell_type": "code",
   "execution_count": 17,
   "id": "d750acfe",
   "metadata": {},
   "outputs": [
    {
     "name": "stdout",
     "output_type": "stream",
     "text": [
      "1\n",
      "2\n",
      "3\n",
      "4\n",
      "5\n",
      "6\n",
      "7\n",
      "8\n",
      "9\n",
      "original array:  [1 2 3 4 5 6 7 8 9]\n",
      "Re shaped array:\n",
      " [[1 2 3]\n",
      " [4 5 6]\n",
      " [7 8 9]]\n"
     ]
    }
   ],
   "source": [
    "import numpy as np\n",
    "\n",
    "n=np.array([1, 2, 3, 4, 5, 6, 7, 8, 9])\n",
    "for a in n1:\n",
    "   print(a)\n",
    "\n",
    "\n",
    "re_shape=n.reshape(3,3)\n",
    "print(\"original array: \",n)\n",
    "print(\"Re shaped array:\\n\",re_shape)"
   ]
  },
  {
   "cell_type": "markdown",
   "id": "b1035a96",
   "metadata": {},
   "source": [
    "#### Join  -concatenate, stack"
   ]
  },
  {
   "cell_type": "code",
   "execution_count": 29,
   "id": "e82cca56",
   "metadata": {},
   "outputs": [
    {
     "name": "stdout",
     "output_type": "stream",
     "text": [
      "After concatenate:\n",
      " [ 1  2  3  4  5  6  7  8  9 10 11 12 13 14 15 16 17 18 19]\n",
      "After hstack:\n",
      " [ 1  2  3  4  5  6  7  8  9 10 11 12 13 14 15 16 17 18 19]\n",
      "After stack:\n",
      " [[ 1  2  3  4  5  6  7  8  9]\n",
      " [11 12 13 14 15 16 17 18 19]]\n",
      "After vstack:\n",
      " [[ 1  2  3  4  5  6  7  8  9]\n",
      " [11 12 13 14 15 16 17 18 19]]\n",
      "After dstack:\n",
      " [[[ 1 11]\n",
      "  [ 2 12]\n",
      "  [ 3 13]\n",
      "  [ 4 14]\n",
      "  [ 5 15]\n",
      "  [ 6 16]\n",
      "  [ 7 17]\n",
      "  [ 8 18]\n",
      "  [ 9 19]]]\n"
     ]
    }
   ],
   "source": [
    "import numpy as np\n",
    "\n",
    "n1=np.array([1,2,3,4,5,6,7,8,9])\n",
    "n2=np.array([10,11,12,13,14,15,16,17,18,19])\n",
    "\n",
    "\n",
    "\n",
    "re_shape=np.concatenate((n1,n2))\n",
    "print(\"After concatenate:\\n\",re_shape)\n",
    "\n",
    "re_shape=np.hstack((n1,n2))  #same as concatenate\n",
    "print(\"After hstack:\\n\",re_shape)\n",
    "\n",
    "n2=np.array([11,12,13,14,15,16,17,18,19])\n",
    "\n",
    "re_shape=np.stack((n1,n2))  #shape must be same and output in shape\n",
    "print(\"After stack:\\n\",re_shape)\n",
    "re_shape=np.vstack((n1,n2))  #in roww\n",
    "print(\"After vstack:\\n\",re_shape)\n",
    "\n",
    "re_shape=np.dstack((n1,n2))  #in column\n",
    "print(\"After dstack:\\n\",re_shape)\n",
    "\n"
   ]
  }
 ],
 "metadata": {
  "kernelspec": {
   "display_name": ".venv",
   "language": "python",
   "name": "python3"
  },
  "language_info": {
   "codemirror_mode": {
    "name": "ipython",
    "version": 3
   },
   "file_extension": ".py",
   "mimetype": "text/x-python",
   "name": "python",
   "nbconvert_exporter": "python",
   "pygments_lexer": "ipython3",
   "version": "3.13.7"
  }
 },
 "nbformat": 4,
 "nbformat_minor": 5
}
