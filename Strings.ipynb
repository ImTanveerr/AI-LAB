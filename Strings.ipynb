{
 "cells": [
  {
   "cell_type": "markdown",
   "id": "1eb345d3",
   "metadata": {},
   "source": [
    "## Strings"
   ]
  },
  {
   "cell_type": "code",
   "execution_count": null,
   "id": "ba992558",
   "metadata": {},
   "outputs": [],
   "source": [
    "course= \"AI_LAB\"\n",
    "print(len(course))  # Output: 6\n",
    "print(course[0])  # Output: 'A'\n",
    "print(course[-1])  # Output: 'B'\n",
    "print(course[0:])  # Output: 'AI_LAB'\n",
    "print(course[:0])  #  Output: ''\n",
    "print(course[3:6])  # Output: 'LAB'\n",
    "print(course[3:])  # Output: 'LAB'\n",
    "print(course[:])  # Output: 'AI_LAB'"
   ]
  },
  {
   "cell_type": "markdown",
   "id": "3b451430",
   "metadata": {},
   "source": [
    "#### Formatted Strings"
   ]
  },
  {
   "cell_type": "code",
   "execution_count": null,
   "id": "b8db14cd",
   "metadata": {},
   "outputs": [],
   "source": [
    "first_name = \"John\"\n",
    "last_name = \"Doe\"\n",
    "full_name = first_name + \" \" + last_name\n",
    "full=f\"{first_name} {last_name}\"\n",
    "print(full_name)  # Output: 'John Doe'\n",
    "print(full)  # Output: 'John Doe'"
   ]
  },
  {
   "cell_type": "markdown",
   "id": "d561734e",
   "metadata": {},
   "source": [
    "#### Methods"
   ]
  },
  {
   "cell_type": "code",
   "execution_count": 23,
   "id": "e2abcbc1",
   "metadata": {},
   "outputs": [
    {
     "name": "stdout",
     "output_type": "stream",
     "text": [
      "SOFTWARE ENGINEERING\n",
      "software engineering\n",
      "Software Engineering\n",
      "9\n",
      "AI Engineering\n",
      "['Software', 'Engineering']\n",
      "True\n",
      "True\n"
     ]
    }
   ],
   "source": [
    "course= \"Software Engineering\"\n",
    "print(course.upper())  # Output: 'SOFTWARE ENGINEERING'\n",
    "print(course.lower())  # Output: 'software engineering'\n",
    "print(course.title())  # Output: 'Software Engineering'\n",
    "print(course.find(\"Eng\"))  # Output: 9\n",
    "print(course.replace(\"Software\", \"AI\"))  # Output: 'AI Engineering'\n",
    "print(course.split(\" \"))  # Output: ['Software', 'Engineering']\n",
    "print(course.startswith(\"Software\"))  # Output: True\n",
    "print(course.endswith(\"Engineering\"))  # Output: True\n"
   ]
  }
 ],
 "metadata": {
  "kernelspec": {
   "display_name": ".venv",
   "language": "python",
   "name": "python3"
  },
  "language_info": {
   "codemirror_mode": {
    "name": "ipython",
    "version": 3
   },
   "file_extension": ".py",
   "mimetype": "text/x-python",
   "name": "python",
   "nbconvert_exporter": "python",
   "pygments_lexer": "ipython3",
   "version": "3.13.7"
  }
 },
 "nbformat": 4,
 "nbformat_minor": 5
}
