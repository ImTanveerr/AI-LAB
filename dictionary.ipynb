{
 "cells": [
  {
   "cell_type": "markdown",
   "id": "3f7bb5ea",
   "metadata": {},
   "source": [
    "## Dictionary"
   ]
  },
  {
   "cell_type": "code",
   "execution_count": 5,
   "id": "488f3ce3",
   "metadata": {},
   "outputs": [
    {
     "name": "stdout",
     "output_type": "stream",
     "text": [
      "{'products': 'Earphone', 'price': 1500, 'quantity': 100, 'brand': 'Boat', 'in_stock': True, 'rating': 4.5}\n",
      "{'products': 'Smartphone', 'price': 30000, 'quantity': 50, 'brand': 'Samsung', 'in_stock': True, 'rating': 4.7}\n"
     ]
    }
   ],
   "source": [
    "my_Stock={\n",
    "    \"products\": \"Earphone\",\n",
    "    \"price\": 1500,\n",
    "    \"quantity\": 100,\n",
    "    \"brand\": \"Boat\",  \n",
    "    \"in_stock\": True,\n",
    "    \"rating\": 4.5,\n",
    "}\n",
    "\n",
    "your_Stock=dict({\n",
    "    \"products\": \"Smartphone\",\n",
    "    \"price\": 30000,\n",
    "    \"quantity\": 50,\n",
    "    \"brand\": \"Samsung\",  \n",
    "    \"in_stock\": True,\n",
    "    \"rating\": 4.7,\n",
    "})\n",
    "\n",
    "print(my_Stock) \n",
    "print(your_Stock)"
   ]
  }
 ],
 "metadata": {
  "kernelspec": {
   "display_name": ".venv",
   "language": "python",
   "name": "python3"
  },
  "language_info": {
   "codemirror_mode": {
    "name": "ipython",
    "version": 3
   },
   "file_extension": ".py",
   "mimetype": "text/x-python",
   "name": "python",
   "nbconvert_exporter": "python",
   "pygments_lexer": "ipython3",
   "version": "3.13.7"
  }
 },
 "nbformat": 4,
 "nbformat_minor": 5
}
